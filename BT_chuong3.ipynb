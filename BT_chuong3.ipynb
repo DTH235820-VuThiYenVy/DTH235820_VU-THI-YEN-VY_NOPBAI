{
 "cells": [
  {
   "cell_type": "code",
   "execution_count": null,
   "id": "b0388860",
   "metadata": {},
   "outputs": [
    {
     "name": "stdout",
     "output_type": "stream",
     "text": [
      "Chuong trinh kiem tra năm thuan\n",
      "Nam 2021 khong la nam thuan\n"
     ]
    }
   ],
   "source": [
    "#Câu 1\n",
    "print(\"Chuong trinh kiem tra năm thuan\")\n",
    "year=int (input(\"Nhap vao 1 nam:\"))\n",
    "if(year%4==0 and year%100!=0) or (year%400==0):\n",
    "    print(\"Nam\",year,\"la nam thuan\")\n",
    "else:\n",
    "    print(\"Nam\",year,\"khong la nam thuan\")"
   ]
  },
  {
   "cell_type": "code",
   "execution_count": null,
   "id": "e0055392",
   "metadata": {},
   "outputs": [
    {
     "name": "stdout",
     "output_type": "stream",
     "text": [
      "Chuong trinh dem so ngay trong thang\n",
      "Thang 3 co 31 ngay\n"
     ]
    }
   ],
   "source": [
    "#Câu 2\n",
    "print(\"Chuong trinh dem so ngay trong thang\")\n",
    "month=int(input(\"Nhap vao thang (1-12):\"))\n",
    "if month in [1,3,5,7,8,10,12]:\n",
    "    print(\"Thang\",month,\"co 31 ngay\")   \n",
    "elif month in [4,6,9,11]:\n",
    "    print(\"Thang\",month,\"co 30 ngay\")\n",
    "elif month==2:\n",
    "    year=int(input(\"Nhap vao nam:\"))\n",
    "    if (year%4==0 and year%100!=0) or (year%400==0):\n",
    "        print(\"Thang 2 nam\",year,\"co 29 ngay\")\n",
    "    else:\n",
    "        print(\"Thang 2 nam\",year,\"co 28 ngay\")\n",
    "else:\n",
    "    print(\"Thang khong hop le\")"
   ]
  },
  {
   "cell_type": "code",
   "execution_count": null,
   "id": "b1dffb9f",
   "metadata": {},
   "outputs": [
    {
     "name": "stdout",
     "output_type": "stream",
     "text": [
      "Chuong trinh giai phuong trinh bac 2\n",
      "Phuong trinh co 2 nghiem phan biet:\n",
      "x1= -0.42264973081037427\n",
      "x2= -1.5773502691896255\n"
     ]
    }
   ],
   "source": [
    "#Câu 3\n",
    "from math import sqrt\n",
    "print(\"Chuong trinh giai phuong trinh bac 2\")\n",
    "a=float(input(\"Nhap he so a:\"))\n",
    "b=float(input(\"Nhap he so b:\"))\n",
    "c=float(input(\"Nhap he so c:\"))     \n",
    "if a==0:\n",
    "    if b==0:\n",
    "        if c==0:\n",
    "            print(\"Phuong trinh vo so nghiem\")\n",
    "        else:\n",
    "            print(\"Phuong trinh vo nghiem\")\n",
    "    else:\n",
    "        x=-c/b\n",
    "        print(\"Phuong trinh co 1 nghiem x=\",x)\n",
    "else:\n",
    "    delta=b*b-4*a*c\n",
    "    if delta>0:\n",
    "        x1=(-b+sqrt(delta))/(2*a)\n",
    "        x2=(-b-sqrt(delta))/(2*a)\n",
    "        print(\"Phuong trinh co 2 nghiem phan biet:\")\n",
    "        print(\"x1=\",x1)\n",
    "        print(\"x2=\",x2)\n",
    "    elif delta==0:\n",
    "        x=-b/(2*a)\n",
    "        print(\"Phuong trinh co 1 nghiem kep x=\",x)\n",
    "    else:\n",
    "        print(\"Phuong trinh vo nghiem\")"
   ]
  },
  {
   "cell_type": "code",
   "execution_count": 7,
   "id": "f7afcec4",
   "metadata": {},
   "outputs": [
    {
     "name": "stdout",
     "output_type": "stream",
     "text": [
      "(a) True\n",
      "(b) True\n",
      "(c) False\n",
      "(d) True\n",
      "(e) False\n",
      "(f) True\n",
      "(g) True\n",
      "(h) False\n",
      "(i) False\n",
      "(j) True\n",
      "(k) True\n",
      "(l) False\n"
     ]
    }
   ],
   "source": [
    "#Câu 4\n",
    "x, y, z = 3, 5, 7\n",
    "\n",
    "print(\"(a)\", x == 3)            # True\n",
    "print(\"(b)\", x < y)             # True\n",
    "print(\"(c)\", x >= y)            # False\n",
    "print(\"(d)\", x <= y)            # True\n",
    "print(\"(e)\", x != y - 2)        # False\n",
    "print(\"(f)\", x < 10)            # True\n",
    "print(\"(g)\", x >= 0 and x < 10) # True\n",
    "print(\"(h)\", x < 0 and x < 10)  # False\n",
    "print(\"(i)\", x >= 0 and x < 2)  # False\n",
    "print(\"(j)\", x < 0 or x < 10)   # True\n",
    "print(\"(k)\", x > 0 or x < 10)   # True\n",
    "print(\"(l)\", x < 0 or x > 10)   # False"
   ]
  },
  {
   "cell_type": "code",
   "execution_count": 6,
   "id": "3088c17b",
   "metadata": {},
   "outputs": [
    {
     "name": "stdout",
     "output_type": "stream",
     "text": [
      "(a):\n",
      "i = 5 , j = 5 , k = 7\n",
      "(b):\n",
      "i = 3 , j = 5 , k = 5\n",
      "(c):\n",
      "i = 7 , j = 3 , k = 7\n",
      "(d):\n",
      "i = 5 , j = 3 , k = 3\n",
      "(e):\n",
      "i = 5 , j = 3 , k = 5\n",
      "(f):\n",
      "i = 7 , j = 7 , k = 3\n"
     ]
    }
   ],
   "source": [
    "#Câu 5\n",
    "def print_value(i,j,k):\n",
    "    if i < j:\n",
    "        if j < k:\n",
    "            i = j\n",
    "        else:\n",
    "            j = k\n",
    "    else:\n",
    "        if j > k:\n",
    "            j = i\n",
    "        else:\n",
    "            i = k\n",
    "    print(\"i =\", i, \", j =\", j, \", k =\", k)\n",
    "\n",
    "print(\"(a):\")\n",
    "print_value(3, 5, 7)\n",
    "\n",
    "print(\"(b):\")\n",
    "print_value(3, 7, 5)\n",
    "\n",
    "print(\"(c):\")\n",
    "print_value(5, 3, 7)\n",
    "\n",
    "print(\"(d):\")\n",
    "print_value(5, 7, 3)\n",
    "\n",
    "print(\"(e):\")\n",
    "print_value(7, 3, 5)\n",
    "\n",
    "print(\"(f):\")\n",
    "print_value(7, 5, 3)"
   ]
  },
  {
   "cell_type": "code",
   "execution_count": 2,
   "id": "60c4fbb3",
   "metadata": {},
   "outputs": [
    {
     "name": "stdout",
     "output_type": "stream",
     "text": [
      "năm mươi sáu\n"
     ]
    }
   ],
   "source": [
    "#Câu 6\n",
    "num_words = [\"không\", \"một\", \"hai\", \"ba\", \"bốn\", \"năm\", \"sáu\", \"bảy\", \"tám\", \"chín\"]\n",
    "\n",
    "n = int(input(\"Nhập số n (0-99): \"))\n",
    "\n",
    "if 0 <= n < 10:\n",
    "    print(num_words[n])\n",
    "elif 10 <= n < 20:\n",
    "    if n == 10:\n",
    "        print(\"mười\")\n",
    "    else:\n",
    "        print(\"mười\", num_words[n % 10])\n",
    "else:\n",
    "    chuc = n // 10\n",
    "    donvi = n % 10\n",
    "    if donvi == 0:\n",
    "        print(num_words[chuc], \"mươi\")\n",
    "    elif donvi == 1:\n",
    "        print(num_words[chuc], \"mươi mốt\")\n",
    "    elif donvi == 5:\n",
    "        print(num_words[chuc], \"mươi lăm\")\n",
    "    else:\n",
    "        print(num_words[chuc], \"mươi\", num_words[donvi])"
   ]
  },
  {
   "cell_type": "code",
   "execution_count": 2,
   "id": "f02627a0",
   "metadata": {},
   "outputs": [
    {
     "name": "stdout",
     "output_type": "stream",
     "text": [
      "Ngày kế tiếp là: 2/2/1025\n"
     ]
    }
   ],
   "source": [
    "#Câu 7\n",
    "from datetime import datetime, timedelta\n",
    "\n",
    "# Nhập ngày, tháng, năm\n",
    "day = int(input(\"Nhập ngày: \"))\n",
    "month = int(input(\"Nhập tháng: \"))\n",
    "year = int(input(\"Nhập năm: \"))\n",
    "\n",
    "try:\n",
    "    current_date = datetime(year, month, day)\n",
    "    next_date = current_date + timedelta(days=1)\n",
    "    print(\"Ngày kế tiếp là: {}/{}/{}\".format(next_date.day, next_date.month, next_date.year))\n",
    "except ValueError:\n",
    "    print(\"Ngày không hợp lệ!\")"
   ]
  },
  {
   "cell_type": "code",
   "execution_count": 2,
   "id": "61d4cff0",
   "metadata": {},
   "outputs": [
    {
     "name": "stdout",
     "output_type": "stream",
     "text": [
      "Kết quả: 6.0\n"
     ]
    }
   ],
   "source": [
    "#Câu 8\n",
    "a = float(input(\"Nhập số a: \"))\n",
    "b = float(input(\"Nhập số b: \"))\n",
    "op = input(\"Nhập phép toán (+, -, *, /): \")\n",
    "if op == '+':\n",
    "    print(\"Kết quả:\", a + b)\n",
    "elif op == '-':\n",
    "    print(\"Kết quả:\", a - b)\n",
    "elif op == '*':\n",
    "    print(\"Kết quả:\", a * b)\n",
    "elif op == '/':\n",
    "    if b != 0:\n",
    "        print(\"Kết quả:\", a / b)\n",
    "    else:\n",
    "        print(\"Lỗi: Không chia được cho 0!\")\n",
    "else:\n",
    "    print(\"Phép toán không hợp lệ!\")"
   ]
  },
  {
   "cell_type": "code",
   "execution_count": 1,
   "id": "bb591d48",
   "metadata": {},
   "outputs": [
    {
     "name": "stdout",
     "output_type": "stream",
     "text": [
      "Tháng 6 thuộc quý 2\n"
     ]
    }
   ],
   "source": [
    "#Câu 9\n",
    "month = int(input(\"Nhập vào tháng (1-12): \"))\n",
    "if 1 <= month <= 3:\n",
    "    print(\"Tháng\", month, \"thuộc quý 1\")\n",
    "elif 4 <= month <= 6:\n",
    "    print(\"Tháng\", month, \"thuộc quý 2\")\n",
    "elif 7 <= month <= 9:\n",
    "    print(\"Tháng\", month, \"thuộc quý 3\")\n",
    "elif 10 <= month <= 12:\n",
    "    print(\"Tháng\", month, \"thuộc quý 4\")\n",
    "else:\n",
    "    print(\"Tháng không hợp lệ\")"
   ]
  },
  {
   "cell_type": "code",
   "execution_count": 2,
   "id": "4f9a5006",
   "metadata": {},
   "outputs": [
    {
     "name": "stdout",
     "output_type": "stream",
     "text": [
      "s(3,4)=15.375\n"
     ]
    }
   ],
   "source": [
    "\n",
    "#Câu 10\n",
    "x=int(input(\"Nhập x: \"))\n",
    "n=int(input(\"Nhập n: \"))\n",
    "s=0;\n",
    "for i in range(1, n+1):\n",
    "    tu=x**i\n",
    "    mau=1\n",
    "    for j in range(1, i+1):\n",
    "        mau=mau*j   \n",
    "    s=s+tu/mau\n",
    "print(\"s({0},{1})={2}\".format(x,n,s))\n"
   ]
  },
  {
   "cell_type": "code",
   "execution_count": 4,
   "id": "5445ab9a",
   "metadata": {},
   "outputs": [
    {
     "name": "stdout",
     "output_type": "stream",
     "text": [
      "Số 8 không là số nguyên tố\n"
     ]
    }
   ],
   "source": [
    "#Câu 11\n",
    "while True:\n",
    "    n=int(input(\"Nhập số n nguyên dương (n>=0): \"))\n",
    "    dem=0\n",
    "    for i in range(1, n+1):\n",
    "        if n%i==0:\n",
    "            dem+=1  \n",
    "    if dem==2:\n",
    "        print(\"Số\",n,\"là số nguyên tố\")\n",
    "    else:\n",
    "        print(\"Số\",n,\"không là số nguyên tố\")\n",
    "    hoi=input(\"Bạn có muốn tiếp tục (c/k)? \")\n",
    "    if hoi == 'k' or hoi == 'K':\n",
    "        break\n",
    "    print(\"tạm biệt!\")"
   ]
  },
  {
   "cell_type": "code",
   "execution_count": 8,
   "id": "98551a32",
   "metadata": {},
   "outputs": [
    {
     "name": "stdout",
     "output_type": "stream",
     "text": [
      "2* 1= 2\t3* 1= 3\t4* 1= 4\t5* 1= 5\t6* 1= 6\t7* 1= 7\t8* 1= 8\t9* 1= 9\t\n",
      "2* 2= 4\t3* 2= 6\t4* 2= 8\t5* 2=10\t6* 2=12\t7* 2=14\t8* 2=16\t9* 2=18\t\n",
      "2* 3= 6\t3* 3= 9\t4* 3=12\t5* 3=15\t6* 3=18\t7* 3=21\t8* 3=24\t9* 3=27\t\n",
      "2* 4= 8\t3* 4=12\t4* 4=16\t5* 4=20\t6* 4=24\t7* 4=28\t8* 4=32\t9* 4=36\t\n",
      "2* 5=10\t3* 5=15\t4* 5=20\t5* 5=25\t6* 5=30\t7* 5=35\t8* 5=40\t9* 5=45\t\n",
      "2* 6=12\t3* 6=18\t4* 6=24\t5* 6=30\t6* 6=36\t7* 6=42\t8* 6=48\t9* 6=54\t\n",
      "2* 7=14\t3* 7=21\t4* 7=28\t5* 7=35\t6* 7=42\t7* 7=49\t8* 7=56\t9* 7=63\t\n",
      "2* 8=16\t3* 8=24\t4* 8=32\t5* 8=40\t6* 8=48\t7* 8=56\t8* 8=64\t9* 8=72\t\n",
      "2* 9=18\t3* 9=27\t4* 9=36\t5* 9=45\t6* 9=54\t7* 9=63\t8* 9=72\t9* 9=81\t\n",
      "2*10=20\t3*10=30\t4*10=40\t5*10=50\t6*10=60\t7*10=70\t8*10=80\t9*10=90\t\n"
     ]
    }
   ],
   "source": [
    "#Câu 12\n",
    "for i in range(1,11):\n",
    "    for j in range(2,10):\n",
    "        line=\"{0}*{1:>2}={2:>2}\".format(j,i,i*j)\n",
    "        print(line,end='\\t')\n",
    "    print()"
   ]
  },
  {
   "cell_type": "code",
   "execution_count": 10,
   "id": "c92f056e",
   "metadata": {},
   "outputs": [
    {
     "name": "stdout",
     "output_type": "stream",
     "text": [
      "****************************************************************************************************\n",
      "Số dấu * được in ra là: 100\n"
     ]
    }
   ],
   "source": [
    "#Câu 13\n",
    "a = 0\n",
    "count = 0\n",
    "while a < 100:\n",
    "    print('*', end='')\n",
    "    a += 1\n",
    "    count += 1\n",
    "print()\n",
    "print(\"Số dấu * được in ra là:\", count)"
   ]
  },
  {
   "cell_type": "code",
   "execution_count": 16,
   "id": "1cd8b695",
   "metadata": {},
   "outputs": [
    {
     "name": "stdout",
     "output_type": "stream",
     "text": [
      "********************\n",
      "********************\n",
      "********************\n",
      "********************\n",
      "********************\n",
      "********************\n",
      "********************\n",
      "********************\n",
      "********************\n",
      "********************\n",
      "********************\n",
      "********************\n",
      "********************\n",
      "********************\n",
      "********************\n",
      "********************\n",
      "********************\n",
      "********************\n",
      "********************\n",
      "********************\n",
      "********************\n",
      "********************\n",
      "********************\n",
      "********************\n",
      "********************\n",
      "********************\n",
      "********************\n",
      "********************\n",
      "********************\n",
      "********************\n",
      "********************\n",
      "********************\n",
      "********************\n",
      "********************\n",
      "********************\n",
      "********************\n",
      "********************\n",
      "********************\n",
      "********************\n",
      "********************\n",
      "********************\n",
      "********************\n",
      "********************\n",
      "********************\n",
      "********************\n",
      "********************\n",
      "********************\n",
      "********************\n",
      "********************\n",
      "********************\n",
      "********************\n",
      "********************\n",
      "********************\n",
      "********************\n",
      "********************\n",
      "********************\n",
      "********************\n",
      "********************\n",
      "********************\n",
      "********************\n",
      "********************\n",
      "********************\n",
      "********************\n",
      "********************\n",
      "********************\n",
      "********************\n",
      "********************\n",
      "********************\n",
      "********************\n",
      "********************\n",
      "********************\n",
      "********************\n",
      "********************\n",
      "********************\n",
      "********************\n",
      "********************\n",
      "********************\n",
      "********************\n",
      "********************\n",
      "********************\n",
      "********************\n",
      "********************\n",
      "********************\n",
      "********************\n",
      "********************\n",
      "********************\n",
      "********************\n",
      "********************\n",
      "********************\n",
      "********************\n",
      "********************\n",
      "********************\n",
      "********************\n",
      "********************\n",
      "********************\n",
      "********************\n",
      "********************\n",
      "********************\n",
      "********************\n",
      "********************\n",
      "Số dấu * được in ra là: 2000\n"
     ]
    }
   ],
   "source": [
    "#Câu 14\n",
    "a = 0\n",
    "count = 0\n",
    "while a < 100:\n",
    "    b=0\n",
    "    while b<40:\n",
    "        if (a+b)%2==0:\n",
    "            print('*', end='')\n",
    "            count+=1\n",
    "        b+=1\n",
    "    print()\n",
    "    a+=1\n",
    "print(\"Số dấu * được in ra là:\", count)"
   ]
  },
  {
   "cell_type": "markdown",
   "id": "dda13545",
   "metadata": {},
   "source": [
    "#Câu 15\n",
    "Giải thích cách chạy các dòng lệnh range\n",
    "(a) range(5)\n",
    "    Bắt đầu từ 0, kết thúc trước 5, bước nhảy là 1.Kết quả: 0, 1, 2, 3, 4\n",
    "(b) range(5, 10)\n",
    "    Bắt đầu từ 5, kết thúc trước 10, bước nhảy là 1.Kết quả: 5, 6, 7, 8, 9\n",
    "(c) range(5, 20, 3)\n",
    "    Bắt đầu từ 5, kết thúc trước 20, bước nhảy là 3.Kết quả: 5, 8, 11, 14, 17\n",
    "(d) range(20, 5, -1)\n",
    "    Bắt đầu từ 20, kết thúc sau 5, bước nhảy là -1 (giảm dần).Kết quả: 20, 19, 18, 17, 16, 15, 14, 13, 12, 11, 10, 9, 8, 7, 6\n",
    "(e) range(20, 5, -3)\n",
    "    Bắt đầu từ 20, kết thúc sau 5, bước nhảy là -3.Kết quả: 20, 17, 14, 11, 8\n",
    "(f) range(10, 5)\n",
    "    Bắt đầu từ 10, kết thúc trước 5, bước nhảy mặc định là 1 (tăng dần).Không có giá trị nào thỏa mãn, kết quả rỗng.\n",
    "(g) range(0)\n",
    "    Bắt đầu từ 0, kết thúc trước 0.Kết quả rỗng.\n",
    "(h) range(10, 101, 10)\n",
    "    Bắt đầu từ 10, kết thúc trước 101, bước nhảy là 10.Kết quả: 10, 20, 30, 40, 50, 60, 70, 80, 90, 100\n",
    "(i) range(10, -1, -1)\n",
    "    Bắt đầu từ 10, kết thúc sau -1, bước nhảy là -1.Kết quả: 10, 9, 8, 7, 6, 5, 4, 3, 2, 1, 0\n",
    "(j) range(-3, 4)\n",
    "    Bắt đầu từ -3, kết thúc trước 4, bước nhảy là 1.Kết quả: -3, -2, -1, 0, 1, 2, 3\n",
    "(k) range(0, 10, 1)\n",
    "    Bắt đầu từ 0, kết thúc trước 10, bước nhảy là 1.Kết quả: 0, 1, 2, 3, 4, 5, 6, 7, 8, 9"
   ]
  },
  {
   "cell_type": "code",
   "execution_count": 18,
   "id": "528c2f40",
   "metadata": {},
   "outputs": [
    {
     "name": "stdout",
     "output_type": "stream",
     "text": [
      "****************\n",
      "Số dấu * được in ra là: 16\n"
     ]
    }
   ],
   "source": [
    "#Câu 16\n",
    "count=0\n",
    "for a in range(20,100,5):\n",
    "    print('*',end='')\n",
    "    count+=1\n",
    "print()\n",
    "print(\"Số dấu * được in ra là:\", count)"
   ]
  },
  {
   "cell_type": "code",
   "execution_count": 21,
   "id": "b4c9c308",
   "metadata": {},
   "outputs": [
    {
     "name": "stdout",
     "output_type": "stream",
     "text": [
      "n = 7\n",
      "n = 3\n",
      "n = 2\n"
     ]
    }
   ],
   "source": [
    "#Câu 17\n",
    "n, m = 0, 100\n",
    "while n != m:\n",
    "    n = int(input(\"Nhập n:\"))\n",
    "    if n < 0:\n",
    "        break\n",
    "    print(\"n =\", n)"
   ]
  },
  {
   "cell_type": "code",
   "execution_count": 30,
   "id": "ba5079af",
   "metadata": {},
   "outputs": [
    {
     "name": "stdout",
     "output_type": "stream",
     "text": [
      "Hình 1:\n",
      "* * \n",
      "* * \n",
      "\n",
      " Hình 2:\n",
      "*   \n",
      "* * \n",
      "\n",
      " Hình3:\n",
      "* * \n",
      "* * \n"
     ]
    }
   ],
   "source": [
    "#Câu 18\n",
    "n = int(input(\"Nhập n: \"))\n",
    "\n",
    "print(\"Hình 1:\")\n",
    "for i in range(n):\n",
    "    for j in range(n):\n",
    "        if i == 0 or i == n-1 or j == 0 or j == n-1:\n",
    "            print(\"*\", end=\" \")\n",
    "        else:\n",
    "            print(\" \", end=\" \")\n",
    "    print()\n",
    "\n",
    "print(\"\\n Hình 2:\")\n",
    "for i in range(n):\n",
    "    for j in range(n):\n",
    "        if j == 0 or i == n-1 or i == j:\n",
    "            print(\"*\", end=\" \")\n",
    "        else:\n",
    "            print(\" \", end=\" \")\n",
    "    print()\n",
    "\n",
    "print(\"\\n Hình3:\")\n",
    "for i in range(n):\n",
    "    for j in range(n):\n",
    "        if i == j or i + j == n - 1 or i == n // 2:\n",
    "            print(\"*\", end=\" \")\n",
    "        else:\n",
    "            print(\" \", end=\" \")\n",
    "    print()\n"
   ]
  },
  {
   "cell_type": "code",
   "execution_count": 1,
   "id": "2a99b3c2",
   "metadata": {},
   "outputs": [
    {
     "name": "stdout",
     "output_type": "stream",
     "text": [
      "* * * * * \n",
      "*       *\n",
      "*       *\n",
      "*       *\n",
      "* * * * * \n",
      "    *\n",
      "   **\n",
      "  ***\n",
      " ****\n",
      "*****\n",
      "*\n",
      "* *\n",
      "*   *\n",
      "*     *\n",
      "*       *\n",
      "* * * * * * * * * * *\n",
      "            *       *\n",
      "              *     *\n",
      "                *   *\n",
      "                  * *\n",
      "                    *\n"
     ]
    }
   ],
   "source": [
    "#Câu 18\n",
    "n = int(input(\"Nhập chiều cao của hình: \"))\n",
    "\n",
    "#hình vuông\n",
    "for i in range(n):\n",
    "    if i == 0 or i == n - 1:           # hàng đầu & cuối\n",
    "        print(\"* \" * n)\n",
    "    else:                              # hàng giữa\n",
    "        print(\"* \" + \"  \" * (n - 2) + \"*\") #số 2 trong (n-2) là * ở đầu và cuối hàng giữa\n",
    "\n",
    "#hình tam giác vuông\n",
    "for i in range(1, n + 1):\n",
    "    print(\" \" * (n - i) + \"*\" * i)\n",
    "\n",
    "#hình 2 tam giác vuông chéo nhau\n",
    "def ve_hinh(n):\n",
    "    # Nửa trên (viền trái-phải)\n",
    "    for i in range(n):\n",
    "        if i == 0:\n",
    "            print(\"*\")\n",
    "        else:\n",
    "            print(\"*\" + \" \" * (2*i - 1) + \"*\")\n",
    "    # Hàng giữa: 2n+1 dấu *\n",
    "    print(\" \".join(\"*\" for _ in range(2*n + 1)))\n",
    "    # Nửa dưới (lệch phải)\n",
    "    base_indent = 2 * (n + 1)\n",
    "    for i in range(n-1, -1, -1):\n",
    "        indent = base_indent + 2*((n-1) - i)\n",
    "        if i == 0:\n",
    "            print(\" \" * indent + \"*\")\n",
    "        else:\n",
    "            print(\" \" * indent + \"*\" + \" \" * (2*i - 1) + \"*\")\n",
    "ve_hinh(n)"
   ]
  },
  {
   "cell_type": "code",
   "execution_count": null,
   "id": "818abc44",
   "metadata": {},
   "outputs": [
    {
     "name": "stdout",
     "output_type": "stream",
     "text": [
      "Giá trị S(x, n) = 10.013169642857143\n"
     ]
    }
   ],
   "source": [
    "#Câu 19\n",
    "import math\n",
    "\n",
    "x = float(input(\"Nhập x: \"))\n",
    "n = int(input(\"Nhập n: \"))\n",
    "S = x\n",
    "for i in range(1, n + 1):\n",
    "    mu = 2 * i + 1\n",
    "    S += x ** mu / math.factorial(mu)\n",
    "print(\"Giá trị S(x, n) =\", S)"
   ]
  },
  {
   "cell_type": "code",
   "execution_count": null,
   "id": "b943a84b",
   "metadata": {},
   "outputs": [
    {
     "name": "stdout",
     "output_type": "stream",
     "text": [
      "Giá trị S(x, n) = 10.013169642857143\n"
     ]
    }
   ],
   "source": [
    "#Câu 19 (cách 2)\n",
    "import math\n",
    "x = float(input(\"Nhập x: \"))\n",
    "n = int(input(\"Nhập n: \"))\n",
    "S = x\n",
    "for i in range(1, n + 1):\n",
    "    S += x ** (2 * i + 1) / math.factorial(2 * i + 1)\n",
    "print(\"Giá trị S(x, n) =\", S)"
   ]
  }
 ],
 "metadata": {
  "kernelspec": {
   "display_name": "Python 3",
   "language": "python",
   "name": "python3"
  },
  "language_info": {
   "codemirror_mode": {
    "name": "ipython",
    "version": 3
   },
   "file_extension": ".py",
   "mimetype": "text/x-python",
   "name": "python",
   "nbconvert_exporter": "python",
   "pygments_lexer": "ipython3",
   "version": "3.13.7"
  }
 },
 "nbformat": 4,
 "nbformat_minor": 5
}
