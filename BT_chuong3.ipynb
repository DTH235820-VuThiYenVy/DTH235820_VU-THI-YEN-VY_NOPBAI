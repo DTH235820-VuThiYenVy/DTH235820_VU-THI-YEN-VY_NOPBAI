{
 "cells": [
  {
   "cell_type": "code",
   "execution_count": 2,
   "id": "b0388860",
   "metadata": {},
   "outputs": [
    {
     "name": "stdout",
     "output_type": "stream",
     "text": [
      "Chuong trinh kiem tra năm thuan\n",
      "Nam 2021 khong la nam thuan\n"
     ]
    }
   ],
   "source": [
    "print(\"Chuong trinh kiem tra năm thuan\")\n",
    "year=int (input(\"Moi thim nhap vao 1 nam:\"))\n",
    "if(year%4==0 and year%100!=0) or (year%400==0):\n",
    "    print(\"Nam\",year,\"la nam thuan\")\n",
    "else:\n",
    "    print(\"Nam\",year,\"khong la nam thuan\")"
   ]
  },
  {
   "cell_type": "code",
   "execution_count": 3,
   "id": "e0055392",
   "metadata": {},
   "outputs": [
    {
     "name": "stdout",
     "output_type": "stream",
     "text": [
      "Chuong trinh dem so ngay trong thang\n",
      "Thang 3 co 31 ngay\n"
     ]
    }
   ],
   "source": [
    "print(\"Chuong trinh dem so ngay trong thang\")\n",
    "month=int(input(\"Nhap vao thang (1-12):\"))\n",
    "if month in [1,3,5,7,8,10,12]:\n",
    "    print(\"Thang\",month,\"co 31 ngay\")   \n",
    "elif month in [4,6,9,11]:\n",
    "    print(\"Thang\",month,\"co 30 ngay\")\n",
    "elif month==2:\n",
    "    year=int(input(\"Nhap vao nam:\"))\n",
    "    if (year%4==0 and year%100!=0) or (year%400==0):\n",
    "        print(\"Thang 2 nam\",year,\"co 29 ngay\")\n",
    "    else:\n",
    "        print(\"Thang 2 nam\",year,\"co 28 ngay\")\n",
    "else:\n",
    "    print(\"Thang khong hop le\")"
   ]
  },
  {
   "cell_type": "code",
   "execution_count": 4,
   "id": "b1dffb9f",
   "metadata": {},
   "outputs": [
    {
     "name": "stdout",
     "output_type": "stream",
     "text": [
      "Chuong trinh giai phuong trinh bac 2\n",
      "Phuong trinh vo nghiem\n",
      "C\n"
     ]
    }
   ],
   "source": [
    "from math import sqrt\n",
    "print(\"Chuong trinh giai phuong trinh bac 2\")\n",
    "a=float(input(\"Nhap he so a:\"))\n",
    "b=float(input(\"Nhap he so b:\"))\n",
    "c=float(input(\"Nhap he so c:\"))     \n",
    "if a==0:\n",
    "    if b==0:\n",
    "        if c==0:\n",
    "            print(\"Phuong trinh vo so nghiem\")\n",
    "        else:\n",
    "            print(\"Phuong trinh vo nghiem\")\n",
    "    else:\n",
    "        x=-c/b\n",
    "        print(\"Phuong trinh co 1 nghiem x=\",x)\n",
    "else:\n",
    "    delta=b*b-4*a*c\n",
    "    if delta>0:\n",
    "        x1=(-b+sqrt(delta))/(2*a)\n",
    "        x2=(-b-sqrt(delta))/(2*a)\n",
    "        print(\"Phuong trinh co 2 nghiem phan biet:\")\n",
    "        print(\"x1=\",x1)\n",
    "        print(\"x2=\",x2)\n",
    "    elif delta==0:\n",
    "        x=-b/(2*a)\n",
    "        print(\"Phuong trinh co 1 nghiem kep x=\",x)\n",
    "    else:\n",
    "        print(\"Phuong trinh vo nghiem\")\n",
    "print('C')"
   ]
  },
  {
   "cell_type": "code",
   "execution_count": null,
   "id": "f02627a0",
   "metadata": {},
   "outputs": [],
   "source": []
  },
  {
   "cell_type": "code",
   "execution_count": null,
   "id": "4f9a5006",
   "metadata": {},
   "outputs": [],
   "source": []
  }
 ],
 "metadata": {
  "kernelspec": {
   "display_name": "Python 3",
   "language": "python",
   "name": "python3"
  },
  "language_info": {
   "codemirror_mode": {
    "name": "ipython",
    "version": 3
   },
   "file_extension": ".py",
   "mimetype": "text/x-python",
   "name": "python",
   "nbconvert_exporter": "python",
   "pygments_lexer": "ipython3",
   "version": "3.13.7"
  }
 },
 "nbformat": 4,
 "nbformat_minor": 5
}
