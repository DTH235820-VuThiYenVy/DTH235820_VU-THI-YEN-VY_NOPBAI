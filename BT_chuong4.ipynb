{
 "cells": [
  {
   "cell_type": "code",
   "execution_count": 1,
   "id": "5ad51c72",
   "metadata": {},
   "outputs": [
    {
     "name": "stdout",
     "output_type": "stream",
     "text": [
      "Chương trình tính diện tích Tam Giác\n",
      "Diện tích = 5.332682251925386\n"
     ]
    }
   ],
   "source": [
    "#Câu 1\n",
    "from math import sqrt\n",
    "print(\"Chương trình tính diện tích Tam Giác\")\n",
    "a=float(input(\"Nhập cạnh a>0:\"))\n",
    "b=float(input(\"Nhập cạnh b>0:\"))\n",
    "c=float(input(\"Nhập cạnh c>0:\"))\n",
    "if (a<=0 or b <=0 or c <=0) or (a+b)<=c or (a+c)<=b or b+c<=a:\n",
    "    print(\"Tam giác không hợp lệ\")\n",
    "else:\n",
    "    cv=a+b+c\n",
    "    p=cv/2\n",
    "    dt=sqrt(p*(p-a)*(p-b)*(p-c))\n",
    "    print(\"Diện tích =\",dt)"
   ]
  },
  {
   "cell_type": "code",
   "execution_count": 3,
   "id": "37b15553",
   "metadata": {},
   "outputs": [
    {
     "name": "stdout",
     "output_type": "stream",
     "text": [
      "Bạn đoán lần thứ  1\n",
      "Bạn đoán sai, số máy < số bạn\n",
      "Bạn đoán lần thứ  2\n",
      "Bạn đoán sai, số máy < số bạn\n",
      "Bạn đoán lần thứ  3\n",
      "Bạn đoán sai, số máy < số bạn\n",
      "Bạn đoán lần thứ  4\n",
      "Bạn đoán sai, số máy < số bạn\n",
      "Bạn đoán lần thứ  5\n",
      "Bạn đoán sai, số máy < số bạn\n",
      "Bạn đoán lần thứ  6\n",
      "Bạn đoán sai, số máy < số bạn\n",
      "Bạn đoán lần thứ  7\n",
      "Bạn đoán sai, số máy < số bạn\n",
      "GAME OVER!, số máy = 40\n",
      "Cám ơn bạn đã chơi Game!\n"
     ]
    }
   ],
   "source": [
    "#Câu 2\n",
    "from random import randrange\n",
    "while True:\n",
    "    somay=randrange(1,101)\n",
    "    solandoan=0\n",
    "    win=False\n",
    "    while solandoan<7:\n",
    "        solandoan+=1\n",
    "        songuoi=int(input(\"Máy đoán [1..100], mời bạn đoán:\"))\n",
    "        print(\"Bạn đoán lần thứ \",solandoan)\n",
    "        if somay==songuoi:\n",
    "            print(\"Chúc mừng bạn đoán đúng, số máy là=\",somay)\n",
    "            win=True\n",
    "            break\n",
    "        if somay>songuoi:\n",
    "            print(\"Bạn đoán sai, số máy > số bạn\")\n",
    "        elif somay<songuoi:\n",
    "            print(\"Bạn đoán sai, số máy < số bạn\")\n",
    "    if win==False:\n",
    "        print(\"GAME OVER!, số máy =\",somay)\n",
    "    hoi=input(\"Tiếp không? (k/c)\")\n",
    "    if hoi==\"k\" or hoi==\"K\":\n",
    "        break\n",
    "    elif hoi ==\"c\" or hoi==\"C\":\n",
    "        continue\n",
    "print(\"Cám ơn bạn đã chơi Game!\")"
   ]
  },
  {
   "cell_type": "code",
   "execution_count": null,
   "id": "a9be3636",
   "metadata": {},
   "outputs": [
    {
     "name": "stdout",
     "output_type": "stream",
     "text": [
      "Chương trình tính chỉ số BMI\n",
      "Nhập chiều cao (m):\n",
      "Nhập cân nặng (kg):\n",
      "Chỉ số BMI của bạn là: 17.578124999999996\n",
      "Phân loại: Gầy\n",
      "Nguy cơ bệnh: Nguy cơ bệnh thấp\n"
     ]
    }
   ],
   "source": [
    "#Câu 3\n",
    "def BMI(weight,height):\n",
    "    return weight/(height*height)\n",
    "def PhanLoai(bmi):\n",
    "    if bmi<18.5:\n",
    "        return \"Gầy\"\n",
    "    elif bmi<=24.9:\n",
    "        return \"Bình thường\"\n",
    "    elif bmi<=29.9:\n",
    "        return \"Hơi béo\"\n",
    "    elif bmi<=34.9:\n",
    "        return \"Béo phì cấp độ I\"\n",
    "    elif bmi<=39.9:\n",
    "        return \"Béo phì cấp độ II\"\n",
    "    else:\n",
    "        return \"Béo phì cấp độ III\"\n",
    "def NguyCoBenh(bmi):\n",
    "    if bmi<18.5:\n",
    "        return \"Nguy cơ bệnh thấp\"\n",
    "    elif bmi<=24.9:\n",
    "        return \"Nguy cơ bệnh trung bình\"\n",
    "    elif bmi<=29.9:\n",
    "        return \"Nguy cơ bệnh cao\"\n",
    "    elif bmi<=34.9:\n",
    "        return \"Nguy cơ bệnh cao\"\n",
    "    elif bmi<=39.9:\n",
    "        return \"Nguy cơ bệnh rất cao\"\n",
    "    else:\n",
    "        return \"Nguy cơ bệnh nguy hiểm\"\n",
    "print(\"---Chương trình tính chỉ số BMI---\")\n",
    "print(\"Nhập chiều cao (m):\")    \n",
    "height = float(input())\n",
    "print(\"Nhập cân nặng (kg):\")\n",
    "weight = float(input())\n",
    "bmi = BMI(weight, height)\n",
    "print(\"Chỉ số BMI của bạn là:\", bmi)\n",
    "print(\"Phân loại:\", PhanLoai(bmi))\n",
    "print(\"Nguy cơ bệnh:\", NguyCoBenh(bmi))"
   ]
  },
  {
   "cell_type": "code",
   "execution_count": 2,
   "id": "30d2d672",
   "metadata": {},
   "outputs": [
    {
     "name": "stdout",
     "output_type": "stream",
     "text": [
      "---Chương trình tính ROI---\n",
      "Tỉ lệ ROI = 2.806416666666667\n",
      "==>> Nên đầu tư \n"
     ]
    }
   ],
   "source": [
    "#Câu 4\n",
    "def ROI(dt,cp):\n",
    "    return (dt-cp)/cp\n",
    "def GoiYDauTu(roi):\n",
    "    if roi>=0.75:\n",
    "        return \"Nên đầu tư \"\n",
    "    else:\n",
    "        return \"Không nên đầu tư\"\n",
    "print(\"---Chương trình tính ROI---\")\n",
    "dt=int(input(\"Nhập doanh thu :\"))\n",
    "cp=int(input(\"Nhập chi phí :\"))\n",
    "roi=ROI(dt,cp)\n",
    "print(\"Tỉ lệ ROI =\",roi)\n",
    "print(\"==>>\",GoiYDauTu(roi))"
   ]
  },
  {
   "cell_type": "code",
   "execution_count": 12,
   "id": "1e609786",
   "metadata": {},
   "outputs": [
    {
     "name": "stdout",
     "output_type": "stream",
     "text": [
      "--Nhập vị trí cần tính Fibonacci:\n",
      "Số Fibonacci tại vị trí 8 là:  21\n",
      "\n",
      "Dãy Fibonacci đến vị trí 8 :\n",
      "1\t1\t2\t3\t5\t8\t13\t21\t"
     ]
    }
   ],
   "source": [
    "def Fibonacci(n):\n",
    "    if n<=2:\n",
    "        return 1\n",
    "    return Fibonacci(n-1)+Fibonacci(n-2)\n",
    "def Listfibo(n):\n",
    "    for i in range(1,n+1):\n",
    "        print(Fibonacci(i),end=\"\\t\")\n",
    "print(\"--Nhập vị trí cần tính Fibonacci:\")\n",
    "n=int(input())\n",
    "print(\"Số Fibonacci tại vị trí\",n,\"là: \",Fibonacci(n))\n",
    "print(\"\\nDãy Fibonacci đến vị trí\",n,\":\")\n",
    "Listfibo(n)"
   ]
  },
  {
   "cell_type": "code",
   "execution_count": null,
   "id": "7a3aed5d",
   "metadata": {},
   "outputs": [
    {
     "name": "stdout",
     "output_type": "stream",
     "text": [
      "7\t26\t11\t88\t0\t5\t94\t27\t11\t78\t"
     ]
    }
   ],
   "source": [
    "#Câu 6 (số nguyên ngẫu nhiên) \n",
    "\n",
    "import random\n",
    "for i in range(10):\n",
    "    print(random.randint(0,100),end=\"\\t\")\n",
    "#Giá trị 34,0,99 có thể xuất hiện khi chạy randrange(0,100)"
   ]
  },
  {
   "cell_type": "code",
   "execution_count": 30,
   "id": "732324aa",
   "metadata": {},
   "outputs": [
    {
     "name": "stdout",
     "output_type": "stream",
     "text": [
      "Nhập tọa độ điểm A (x1,y1):\n",
      "Nhập tọa độ điểm B (x2,y2):\n",
      "Độ dài giữa A và B là: 8.94\n"
     ]
    }
   ],
   "source": [
    "import math\n",
    "def DoDai(x1,x2,y1,y2):\n",
    "    return math.sqrt((x2-x1)**2+(y2-y1)**2)\n",
    "print(\"Nhập tọa độ điểm A (x1,y1):\")\n",
    "x1=float(input(\"x1=\"))\n",
    "y1=float(input(\"y1=\"))\n",
    "print(\"Nhập tọa độ điểm B (x2,y2):\")\n",
    "x2=float(input(\"x2=\"))\n",
    "y2=float(input(\"y2=\"))\n",
    "print(\"Độ dài giữa A và B là:\",round(DoDai(x1 ,x2,y1,y2),2))"
   ]
  },
  {
   "cell_type": "code",
   "execution_count": 45,
   "id": "a3ce8a22",
   "metadata": {},
   "outputs": [
    {
     "name": "stdout",
     "output_type": "stream",
     "text": [
      "Kết quả là: 3.0\n"
     ]
    }
   ],
   "source": [
    "#Câu 8: Tính log(a)x\n",
    "import math\n",
    "def Logax(a,x):\n",
    "    return math.log(x)/math.log(a)\n",
    "a=float(input(\"Nhập a>0:\"))\n",
    "if a<=0 or a==1:\n",
    "    print(\"a phải >0, mời nhập lại\")\n",
    "    a=float(input(\"Nhập a>0:\"))\n",
    "\n",
    "x=float(input(\"Nhập x>0:\"))\n",
    "if x<=0:\n",
    "    print(\"x phải >0, mời nhập lại\")\n",
    "    x=float(input(\"Nhập x>0:\"))\n",
    "print(\"Kết quả là:\",Logax(a,x))"
   ]
  },
  {
   "cell_type": "code",
   "execution_count": 51,
   "id": "da01c0ca",
   "metadata": {},
   "outputs": [
    {
     "name": "stdout",
     "output_type": "stream",
     "text": [
      "Kết quả là: 1.99\n"
     ]
    }
   ],
   "source": [
    "#Câu 9: căn 2, n dấu căn lồng nhau\n",
    "def Can2(n):\n",
    "    if n==1:\n",
    "        return math.sqrt(2)\n",
    "    return math.sqrt(2+Can2(n-1))\n",
    "n=int(input(\"Nhập n>0:\"))\n",
    "if n<=0:\n",
    "    print(\"n phải >0, mời nhập lại\")\n",
    "    n=int(input(\"Nhập n>0:\"))\n",
    "print(\"Kết quả là:\",round(Can2(n),2))\n"
   ]
  },
  {
   "cell_type": "code",
   "execution_count": null,
   "id": "b1999494",
   "metadata": {},
   "outputs": [],
   "source": [
    "#Câu 10: Vẽ hình"
   ]
  },
  {
   "cell_type": "code",
   "execution_count": null,
   "id": "957fc377",
   "metadata": {},
   "outputs": [
    {
     "name": "stdout",
     "output_type": "stream",
     "text": [
      "5\n",
      "5\n",
      "0\n",
      "5\n",
      "5\n",
      "5\n",
      "5\n",
      "5\n",
      "0\n"
     ]
    }
   ],
   "source": [
    "#Câu 11\n",
    "def sum1(n):\n",
    "    s = 0\n",
    "    while n > 0:\n",
    "        s += 1\n",
    "        n -= 1\n",
    "    return s\n",
    "def sum2():\n",
    "    global val\n",
    "    s = 0\n",
    "    while val > 0:\n",
    "        s += 1\n",
    "        val -= 1\n",
    "    return s\n",
    "def sum3():\n",
    "    s = 0\n",
    "    for i in range(val, 0, -1):\n",
    "        s += 1\n",
    "    return s\n",
    "#Trường hợp 1:5 5 0\n",
    "def main():\n",
    "    global val\n",
    "    val = 5\n",
    "    print(sum1(5))\n",
    "    print(sum2())\n",
    "    print(sum3())\n",
    "main()\n",
    "\n",
    "#Trường hợp 2: 5 5 5\n",
    "def main():\n",
    "    global val\n",
    "    val = 5\n",
    "    print(sum1(5))\n",
    "    print(sum3())\n",
    "    print(sum2())\n",
    "main()\n",
    "#Trường hợp 3:5 5 0\n",
    "def main():\n",
    "    global val\n",
    "    val = 5\n",
    "    print(sum2())\n",
    "    print(sum1(5))\n",
    "    print(sum3())\n",
    "main()"
   ]
  },
  {
   "cell_type": "code",
   "execution_count": null,
   "id": "6ac0c628",
   "metadata": {},
   "outputs": [],
   "source": [
    "#Câu 12: Hàm oscillate\n",
    "\n",
    "    "
   ]
  },
  {
   "cell_type": "code",
   "execution_count": 63,
   "id": "d1cd1612",
   "metadata": {},
   "outputs": [
    {
     "name": "stdout",
     "output_type": "stream",
     "text": [
      "Nhập n>0:\n",
      "128 không là số hoàn thiện\n",
      "128 không là số thịnh vượng\n"
     ]
    }
   ],
   "source": [
    "#Câu 13: Kt số hoàn thiện, số thịnh vượng\n",
    "def TongUoc(n):\n",
    "    s=0\n",
    "    for i in range(1,n):\n",
    "        if n%i==0:\n",
    "            s+=i\n",
    "    return s\n",
    "def KtSoHoanThien(n):\n",
    "    if TongUoc(n)==n:\n",
    "        return True\n",
    "    return False\n",
    "def KtSoThinhVuong(n):\n",
    "    if TongUoc(n)>n:\n",
    "        return True\n",
    "    return False\n",
    "print(\"Nhập n>0:\")\n",
    "n=int(input())\n",
    "if n<=0:\n",
    "    print(\"n phải >0, mời nhập lại\")\n",
    "    n=int(input(\"Nhập n>0:\"))\n",
    "if KtSoHoanThien(n):\n",
    "    print(n,\"là số hoàn thiện\")\n",
    "else:\n",
    "    print(n,\"không là số hoàn thiện\")\n",
    "if KtSoThinhVuong(n):\n",
    "    print(n,\"là số thịnh vượng\")\n",
    "else:\n",
    "    print(n,\"không là số thịnh vượng\")\n"
   ]
  }
 ],
 "metadata": {
  "kernelspec": {
   "display_name": "Python 3",
   "language": "python",
   "name": "python3"
  },
  "language_info": {
   "codemirror_mode": {
    "name": "ipython",
    "version": 3
   },
   "file_extension": ".py",
   "mimetype": "text/x-python",
   "name": "python",
   "nbconvert_exporter": "python",
   "pygments_lexer": "ipython3",
   "version": "3.13.7"
  }
 },
 "nbformat": 4,
 "nbformat_minor": 5
}
