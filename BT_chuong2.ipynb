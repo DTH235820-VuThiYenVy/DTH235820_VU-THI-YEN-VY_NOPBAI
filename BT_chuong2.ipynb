{
 "cells": [
  {
   "cell_type": "code",
   "execution_count": 1,
   "id": "3973cdd0",
   "metadata": {},
   "outputs": [
    {
     "name": "stdout",
     "output_type": "stream",
     "text": [
      "Chu vi= 18.84955592153876\n",
      "Dien tich= 9.0\n"
     ]
    }
   ],
   "source": [
    "#Cau 1\n",
    "import math\n",
    "try:\n",
    "    r=float(input(\" Moi ban nhap ban kinh hinh tron:\"))\n",
    "    cv=2*math.pi*r\n",
    "    dt=r**2\n",
    "    print(\"Chu vi=\",cv)\n",
    "    print(\"Dien tich=\",dt)\n",
    "except:\n",
    "    print(\"Loi roi\")"
   ]
  },
  {
   "cell_type": "code",
   "execution_count": 2,
   "id": "7a976467",
   "metadata": {},
   "outputs": [
    {
     "name": "stdout",
     "output_type": "stream",
     "text": [
      "0 : 0 : 3\n"
     ]
    }
   ],
   "source": [
    "#Cau 2\n",
    "t=int(input(\"Nhập số giây: \"))\n",
    "hour=(t//3600)%24\n",
    "minute=(t%3600)//60\n",
    "second=(t%3600)%60\n",
    "print(hour,\":\",minute,\":\",second)"
   ]
  },
  {
   "cell_type": "code",
   "execution_count": 1,
   "id": "9a379513",
   "metadata": {},
   "outputs": [
    {
     "name": "stdout",
     "output_type": "stream",
     "text": [
      "Điểm trung bình=  7.0\n",
      "Điểm làm tròn=  7.0\n"
     ]
    }
   ],
   "source": [
    "#Cau 3\n",
    "toan=float(input(\"Nhập điểm Toán: \"))\n",
    "ly=float(input(\"Nhập điểm Lý: \"))\n",
    "hoa=float(input(\"Nhập điểm Hóa: \"))\n",
    "dtb=(toan+ly+hoa)/3\n",
    "print(\"Điểm trung bình= \",dtb)\n",
    "print(\"Điểm làm tròn= \",round(dtb,2))"
   ]
  },
  {
   "cell_type": "markdown",
   "id": "067affac",
   "metadata": {},
   "source": [
    "\n",
    "#Cau 4:\n",
    "-Python hỗ trợ các kiểu dữ liệu cơ bản sau:\n",
    "int: Số nguyên \n",
    "float: Số thực \n",
    "bool: Giá trị logic (True, False)\n",
    "str: Chuỗi ký tự \n",
    "list: Danh sách \n",
    "tuple: Bộ \n",
    "dict: Từ điển \n",
    "set: Tập hợp\n",
    "\n",
    "#Cau5\n",
    "-Các loại ghi chú trong Python\n",
    "Ghi chú một dòng. Sử dụng ký tự # ở đầu dòng.\n",
    "Ghi chú nhiều dòng (docstring hoặc comment nhiều dòng). Sử dụng ba dấu nháy đơn hoặc nháy kép liên tiếp (''' ... ''' hoặc \"\"\" ... \"\"\")\n",
    "\n",
    "#Cau6\n",
    "/ : Chia lấy kết quả là số thực.\n",
    "// : Chia lấy phần nguyên (bỏ phần thập phân).\n",
    "% : Chia lấy phần dư (modulo).\n",
    "** : Lũy thừa.\n",
    "and : Toán tử logic \"và\", trả về True nếu cả hai biểu thức đều đúng.\n",
    "or : Toán tử logic \"hoặc\", trả về True nếu ít nhất một biểu thức đúng.\n",
    "is : So sánh hai đối tượng có cùng vị trí trong bộ nhớ hay không.\n",
    "\n",
    "#Cau7\n",
    "Hàm input(): Dùng để nhập dữ liệu dưới dạng chuỗi (str).\n",
    "\n",
    "Chuyển đổi kiểu dữ liệu khi nhập: Dùng các hàm như int(), float() để chuyển đổi dữ liệu nhập vào.\n",
    "\n",
    "Nhập nhiều giá trị trên một dòng: Sử dụng hàm split() để nhập nhiều giá trị và chuyển đổi kiểu dữ liệu\n",
    "\n",
    "#Cau8\n",
    "-Các loại lỗi\n",
    "Lỗi cú pháp (SyntaxError): Do viết sai cú pháp Python.\n",
    "\n",
    "Lỗi thực thi (RuntimeError): Xảy ra khi chương trình đang chạy, như chia cho 0, truy cập biến chưa khai báo...\n",
    "\n",
    "Lỗi ngữ nghĩa(logic): Chương trình chạy không báo lỗi nhưng kết quả sai do sai về mặt tư duy thuật toán.\n",
    "-Cách bắt lỗi\n",
    "Cú pháp 1: Xử lí ngoại lệ cơ bản\n",
    "Cú pháp 2: Mệnh đề except mà không xác định Exception trong Python\n",
    "Cu pháp 3: Mệnh đề except với nhiều exception trong Python\n",
    "Cú pháp 4: Khối try-finally trong Python\n",
    "\n",
    "#Cau9\n",
    "(a) i1 + (i2 * i3)\n",
    "2 + (5 * -3) = 2 + (-15) = -13\n",
    "Giải thích: Nhân trước, sau đó cộng.\n",
    "\n",
    "(b) i1 * (i2 + i3)\n",
    "2 * (5 + -3) = 2 * 2 = 4\n",
    "Giải thích: Cộng trong ngoặc trước, sau đó nhân.\n",
    "\n",
    "(c) i1 / (i2 + i3)\n",
    "2 / (5 + -3) = 2 / 2 = 1.0\n",
    "Giải thích: Chia lấy số thực.\n",
    "\n",
    "(d) i1 // (i2 + i3)\n",
    "2 // (5 + -3) = 2 // 2 = 1\n",
    "Giải thích: Chia lấy phần nguyên.\n",
    "\n",
    "(e) i1 / i2 + i3\n",
    "2 / 5 + -3 = 0.4 + (-3) = -2.6\n",
    "Giải thích: Chia trước, sau đó cộng.\n",
    "\n",
    "(f) i1 // i2 + i3\n",
    "2 // 5 + -3 = 0 + (-3) = -3\n",
    "Giải thích: Chia lấy phần nguyên trước, sau đó cộng.\n",
    "\n",
    "(g) 3 + 4 + 5 / 3\n",
    "3 + 4 + (5 / 3) = 3 + 4 + 1.666... = 8.666...\n",
    "Giải thích: Chia trước, sau đó cộng.\n",
    "\n",
    "(h) 3 + 4 + 5 // 3\n",
    "3 + 4 + (5 // 3) = 3 + 4 + 1 = 8\n",
    "Giải thích: Chia lấy phần nguyên trước, sau đó cộng.\n",
    "\n",
    "(i) (3 + 4 + 5) / 3\n",
    "(3 + 4 + 5) / 3 = 12 / 3 = 4.0\n",
    "Giải thích: Cộng trong ngoặc trước, sau đó chia.\n",
    "\n",
    "(j) (3 + 4 + 5) // 3\n",
    "(3 + 4 + 5) // 3 = 12 // 3 = 4\n",
    "Giải thích: Cộng trong ngoặc trước, sau đó chia lấy phần nguyên.\n",
    "\n",
    "(k) d1 + (d2 * d3)\n",
    "2.0 + (5.0 * -0.5) = 2.0 + (-2.5) = -0.5\n",
    "Giải thích: Nhân trước, sau đó cộng.\n",
    "\n",
    "(l) d1 + d2 * d3\n",
    "2.0 + 5.0 * -0.5 = 2.0 + (-2.5) = -0.5\n",
    "Giải thích: Nhân trước, sau đó cộng.\n",
    "\n",
    "(m) d1 / d2 - d3\n",
    "2.0 / 5.0 - (-0.5) = 0.4 + 0.5 = 0.9\n",
    "Giải thích: Chia trước, sau đó trừ (hai dấu trừ thành cộng).\n",
    "\n",
    "(n) d1 / (d2 - d3)\n",
    "2.0 / (5.0 - -0.5) = 2.0 / 5.5 ≈ 0.3636\n",
    "Giải thích: Trừ trong ngoặc trước, sau đó chia.\n",
    "\n",
    "(o) d1 + d2 + d3 / 3\n",
    "2.0 + 5.0 + (-0.5 / 3) = 2.0 + 5.0 + (-0.166...) = 6.833...\n",
    "Giải thích: Chia trước, sau đó cộng.\n",
    "\n",
    "(p) (d1 + d2 + d3) / 3\n",
    "(2.0 + 5.0 + -0.5) / 3 = 6.5 / 3 ≈ 2.166...\n",
    "Giải thích: Cộng trong ngoặc trước, sau đó chia.\n",
    "\n",
    "(q) d1 + d2 + (d3 / 3)\n",
    "2.0 + 5.0 + (-0.5 / 3) = 2.0 + 5.0 + (-0.166...) = 6.833...\n",
    "Giải thích: Chia trước, sau đó cộng.\n",
    "\n",
    "(r) 3 * (d1 + d2) * (d1 - d3)\n",
    "3 * (2.0 + 5.0) * (2.0 - -0.5) = 3 * 7.0 * 2.5 = 21.0 * 2.5 = 52.5\n",
    "Giải thích: Tính trong ngoặc trước, sau đó nhân.\n",
    "\n",
    "#Cau10\n",
    "(a) x += 1\n",
    "(b) x /= 2\n",
    "(c) x -= 1\n",
    "(d) x += y\n",
    "(e) x -= (y + 7)\n",
    "(f) x *= 2\n",
    "(g) number_of_closed_cases += 2 * ncc\n",
    "\n"
   ]
  }
 ],
 "metadata": {
  "kernelspec": {
   "display_name": "Python 3",
   "language": "python",
   "name": "python3"
  },
  "language_info": {
   "codemirror_mode": {
    "name": "ipython",
    "version": 3
   },
   "file_extension": ".py",
   "mimetype": "text/x-python",
   "name": "python",
   "nbconvert_exporter": "python",
   "pygments_lexer": "ipython3",
   "version": "3.13.7"
  }
 },
 "nbformat": 4,
 "nbformat_minor": 5
}
