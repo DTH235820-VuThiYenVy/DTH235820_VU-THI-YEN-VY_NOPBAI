{
 "cells": [
  {
   "cell_type": "code",
   "execution_count": 1,
   "id": "3973cdd0",
   "metadata": {},
   "outputs": [
    {
     "name": "stdout",
     "output_type": "stream",
     "text": [
      "Chu vi= 18.84955592153876\n",
      "Dien tich= 9.0\n"
     ]
    }
   ],
   "source": [
    "#Cau 1\n",
    "import math\n",
    "try:\n",
    "    r=float(input(\" Moi ban nhap ban kinh hinh tron:\"))\n",
    "    cv=2*math.pi*r\n",
    "    dt=r**2\n",
    "    print(\"Chu vi=\",cv)\n",
    "    print(\"Dien tich=\",dt)\n",
    "except:\n",
    "    print(\"Loi roi\")"
   ]
  },
  {
   "cell_type": "code",
   "execution_count": 2,
   "id": "7a976467",
   "metadata": {},
   "outputs": [
    {
     "name": "stdout",
     "output_type": "stream",
     "text": [
      "0 : 0 : 3\n"
     ]
    }
   ],
   "source": [
    "#Cau 2\n",
    "t=int(input(\"Nhập số giây: \"))\n",
    "hour=(t//3600)%24\n",
    "minute=(t%3600)//60\n",
    "second=(t%3600)%60\n",
    "print(hour,\":\",minute,\":\",second)"
   ]
  },
  {
   "cell_type": "code",
   "execution_count": 3,
   "id": "9a379513",
   "metadata": {},
   "outputs": [
    {
     "name": "stdout",
     "output_type": "stream",
     "text": [
      "Điểm trung bình=  4.666666666666667\n",
      "Điểm làm tròn=  4.67\n"
     ]
    }
   ],
   "source": [
    "#Cau 3\n",
    "toan=float(input(\"Nhập điểm Toán: \"))\n",
    "ly=float(input(\"Nhập điểm Lý: \"))\n",
    "hoa=float(input(\"Nhập điểm Hóa: \"))\n",
    "dtb=(toan+ly+hoa)/3\n",
    "print(\"Điểm trung bình= \",dtb)\n",
    "print(\"Điểm làm tròn= \",round(dtb,2))"
   ]
  }
 ],
 "metadata": {
  "kernelspec": {
   "display_name": "Python 3",
   "language": "python",
   "name": "python3"
  },
  "language_info": {
   "codemirror_mode": {
    "name": "ipython",
    "version": 3
   },
   "file_extension": ".py",
   "mimetype": "text/x-python",
   "name": "python",
   "nbconvert_exporter": "python",
   "pygments_lexer": "ipython3",
   "version": "3.13.7"
  }
 },
 "nbformat": 4,
 "nbformat_minor": 5
}
